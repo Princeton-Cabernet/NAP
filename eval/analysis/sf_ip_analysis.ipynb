{
 "cells": [
  {
   "cell_type": "code",
   "execution_count": 1,
   "metadata": {},
   "outputs": [],
   "source": [
    "import sys\n",
    "import math\n",
    "import datetime\n",
    "import ipaddress\n",
    "import dateutil.relativedelta\n",
    "import pyspark\n",
    "from pyspark.sql import SparkSession\n",
    "from pyspark.sql.types import *\n",
    "import pyspark.sql.functions as F\n",
    "from datetime import datetime as dt\n",
    "\n",
    "import multiprocessing as mp\n",
    "import pandas as pd\n",
    "import numpy as np\n",
    "from scipy import stats\n",
    "from scipy.sparse import csr_matrix\n",
    "import matplotlib.pyplot as plt\n",
    "import glob\n",
    "\n",
    "# from ipwhois import IPWhois\n",
    "# import seaborn as sns\n",
    "# sys.path.insert(1, '../')\n"
   ]
  },
  {
   "cell_type": "code",
   "execution_count": 2,
   "metadata": {},
   "outputs": [],
   "source": [
    "# Public variables\n",
    "FIVE_TUPLE = [\"src_ip\",\"dst_ip\",\"src_port\",\"dst_port\",\"protocol\"]\n",
    "COLOR_LIST = [\"red\",\"blue\",\"orange\",\"green\",\"purple\",\"yellow\",\"pink\",\"black\"]"
   ]
  },
  {
   "cell_type": "code",
   "execution_count": 3,
   "metadata": {},
   "outputs": [],
   "source": [
    "# Output directory\n",
    "WH_DIRECTORY = \"/media/disk1/mengying/\"\n",
    "\n",
    "# Window size\n",
    "WINDOW_SIZE_IN_NANOSEC = 1 * (10**9)\n",
    "TARGET_TIME_IN_NANOSEC = 60 * (10**9)\n",
    "\n",
    "# Home netmask\n",
    "HOME_NET = [\"128.112.0.0/16\",\"140.180.0.0/16\",\"204.153.48.0/23\",\"66.180.176.0/24\",\"66.180.177.0/24\",\"66.180.180.0/22\"]"
   ]
  },
  {
   "cell_type": "code",
   "execution_count": 4,
   "metadata": {},
   "outputs": [
    {
     "name": "stderr",
     "output_type": "stream",
     "text": [
      "23/09/17 05:20:13 WARN Utils: Your hostname, jrex-dell-r6525-002e3u19 resolves to a loopback address: 127.0.1.1; using 172.17.0.83 instead (on interface eno1)\n",
      "23/09/17 05:20:13 WARN Utils: Set SPARK_LOCAL_IP if you need to bind to another address\n",
      "Setting default log level to \"WARN\".\n",
      "To adjust logging level use sc.setLogLevel(newLevel). For SparkR, use setLogLevel(newLevel).\n",
      "23/09/17 05:20:13 WARN NativeCodeLoader: Unable to load native-hadoop library for your platform... using builtin-java classes where applicable\n",
      "23/09/17 05:20:14 WARN SparkConf: Note that spark.local.dir will be overridden by the value set by the cluster manager (via SPARK_LOCAL_DIRS in mesos/standalone/kubernetes and LOCAL_DIRS in YARN).\n",
      "23/09/17 05:20:14 WARN Utils: Service 'SparkUI' could not bind on port 4040. Attempting port 4041.\n",
      "23/09/17 05:20:14 WARN Utils: Service 'SparkUI' could not bind on port 4041. Attempting port 4042.\n"
     ]
    }
   ],
   "source": [
    "# Spark configuration\n",
    "conf = pyspark.SparkConf().setAll([('spark.cores.max', '100'), ('spark.driver.memory','150g'), \n",
    "                                   (\"spark.default.parallelism\", '100'), \n",
    "                                   (\"spark.speculation\",\"false\"), \n",
    "                                   (\"spark.sql.warehouse.dir\", WH_DIRECTORY), \n",
    "                                   (\"spark.driver.maxResultSize\", \"80g\") ])\n",
    "\n",
    "spark = SparkSession.builder.appName('nap_analysis').config(conf=conf).getOrCreate()\n",
    "sc = spark.sparkContext"
   ]
  },
  {
   "cell_type": "code",
   "execution_count": 5,
   "metadata": {},
   "outputs": [],
   "source": [
    "# Print functions\n",
    "def prRed(skk): print(\"\\033[91m {}\\033[00m\" .format(skk))\n",
    "def prGreen(skk): print(\"\\033[92m {}\\033[00m\" .format(skk))\n",
    "def prYellow(skk): print(\"\\033[93m {}\\033[00m\" .format(skk))"
   ]
  },
  {
   "cell_type": "code",
   "execution_count": 6,
   "metadata": {},
   "outputs": [],
   "source": [
    "# Preprocess HOME_NET to identify external IPs later\n",
    "internal_ips = []\n",
    "for item in HOME_NET:\n",
    "    num_bits = 32 - int(item.split(\"/\")[1])\n",
    "    internal_ips.append((int(ipaddress.IPv4Address(item.split(\"/\")[0])), (2**32-1) >> num_bits << num_bits))"
   ]
  },
  {
   "cell_type": "code",
   "execution_count": 7,
   "metadata": {},
   "outputs": [],
   "source": [
    "import re\n",
    "\n",
    "def is_internal_func(ip, broadcast_dict):\n",
    "    internal_ips = broadcast_dict.value\n",
    "    for item in internal_ips:\n",
    "        if item[1] & int(ip) == item[0]:\n",
    "            return True\n",
    "    return False\n",
    "\n",
    "def mac_to_int_func(mac):\n",
    "    return int(re.sub('[:\\.\\-\\s]', '', mac), 16)\n",
    "    \n",
    "    \n",
    "broadcast_dict = sc.broadcast(internal_ips)\n",
    "\n",
    "# ip_to_int converts IP from string form to int form\n",
    "ip_to_int = F.udf(lambda ip: int(ipaddress.IPv4Address(ip)), LongType())\n",
    "\n",
    "# is_internal returns True if ip is internal and False otherwise\n",
    "is_internal = F.udf(lambda ip : is_internal_func(ip, broadcast_dict), BooleanType())\n",
    "\n",
    "# ip_to_int converts mac from string form to int form\n",
    "mac_to_int = F.udf(lambda mac: mac_to_int_func(mac), LongType())\n"
   ]
  },
  {
   "cell_type": "code",
   "execution_count": 8,
   "metadata": {},
   "outputs": [],
   "source": [
    "sys.path.insert(1, '../scripts')\n",
    "from global_variables import all_header_titles\n",
    "\n",
    "\n",
    "def preprocess_df(filename):\n",
    "    start = dt.now()\n",
    "    in_path = WH_DIRECTORY + filename\n",
    "    df = spark.read.csv(in_path, inferSchema=True, header=False, sep=\"\\\\t\")\n",
    "    \n",
    "    df.createOrReplaceTempView(\"tshark\")\n",
    "    header_fields = []\n",
    "    for counter, item in enumerate(all_header_titles):\n",
    "        header_fields.append(\" {field} AS {title} \".format(field=df.schema[counter].name, title=item))\n",
    "    select_q = \"SELECT {fields} FROM tshark\".format(fields=', '.join(header_fields))\n",
    "    df = spark.sql(select_q)\n",
    "\n",
    "    df = df.withColumn(\"report\", mac_to_int(F.col(\"src_mac\"))).\\\n",
    "            withColumn(\"mac_ts\", mac_to_int(F.col(\"dst_mac\"))).\\\n",
    "            drop(\"src_mac\", \"dst_mac\").\\\n",
    "            where(F.col(\"mac_ts\").isNotNull())\n",
    "    df.cache()\n",
    "    \n",
    "    min_ts = df.agg(F.min(F.col(\"mac_ts\")).alias(\"min_ts\")).collect()[0]['min_ts']\n",
    "    max_ts = df.agg(F.max(F.col(\"mac_ts\")).alias(\"max_ts\")).collect()[0]['max_ts']\n",
    "    df = df.withColumn('window',((F.col(\"mac_ts\")-min_ts)/WINDOW_SIZE_IN_NANOSEC).cast(IntegerType()))\n",
    "\n",
    "    return df, min_ts, max_ts"
   ]
  },
  {
   "cell_type": "code",
   "execution_count": 9,
   "metadata": {
    "scrolled": true
   },
   "outputs": [
    {
     "name": "stderr",
     "output_type": "stream",
     "text": [
      "23/09/17 05:23:44 WARN SparkStringUtils: Truncated the string representation of a plan since it was too large. This behavior can be adjusted by setting 'spark.sql.debug.maxToStringFields'.\n",
      "                                                                                \r"
     ]
    },
    {
     "name": "stdout",
     "output_type": "stream",
     "text": [
      "root\n",
      " |-- version: integer (nullable = true)\n",
      " |-- ip_hdr_len: integer (nullable = true)\n",
      " |-- ip_dsfield: string (nullable = true)\n",
      " |-- tos_precedence: string (nullable = true)\n",
      " |-- tos_delay: string (nullable = true)\n",
      " |-- tos_throughput: string (nullable = true)\n",
      " |-- tos_reliability: string (nullable = true)\n",
      " |-- tos_cost: string (nullable = true)\n",
      " |-- ip_dsfield_dscp: integer (nullable = true)\n",
      " |-- ip_dsfield_ecn: integer (nullable = true)\n",
      " |-- ip_len: integer (nullable = true)\n",
      " |-- ip_id: string (nullable = true)\n",
      " |-- flags_rb: integer (nullable = true)\n",
      " |-- flags_sf: string (nullable = true)\n",
      " |-- flags_df: integer (nullable = true)\n",
      " |-- flags_mf: integer (nullable = true)\n",
      " |-- frag_offset: integer (nullable = true)\n",
      " |-- ip_fragment: string (nullable = true)\n",
      " |-- fragment_count: string (nullable = true)\n",
      " |-- ttl: integer (nullable = true)\n",
      " |-- protocol: integer (nullable = true)\n",
      " |-- src_ip: string (nullable = true)\n",
      " |-- dst_ip: string (nullable = true)\n",
      " |-- ip_src_rt: string (nullable = true)\n",
      " |-- ip_opt_flag: string (nullable = true)\n",
      " |-- ip_opt_type: string (nullable = true)\n",
      " |-- ip_opt_type_number: string (nullable = true)\n",
      " |-- ip_opt_type_class: string (nullable = true)\n",
      " |-- src_port: integer (nullable = true)\n",
      " |-- dst_port: integer (nullable = true)\n",
      " |-- tcp_seq: long (nullable = true)\n",
      " |-- tcp_ack: long (nullable = true)\n",
      " |-- tcp_flags_res: integer (nullable = true)\n",
      " |-- tcp_flags_ns: integer (nullable = true)\n",
      " |-- tcp_flags_cwr: integer (nullable = true)\n",
      " |-- tcp_flags_ecn: integer (nullable = true)\n",
      " |-- tcp_flags_urg: integer (nullable = true)\n",
      " |-- tcp_flags_ack: integer (nullable = true)\n",
      " |-- tcp_hdr_len: integer (nullable = true)\n",
      " |-- tcp_flags_push: integer (nullable = true)\n",
      " |-- tcp_flags_reset: integer (nullable = true)\n",
      " |-- tcp_flags_syn: integer (nullable = true)\n",
      " |-- tcp_flags_fin: integer (nullable = true)\n",
      " |-- tcp_window_size: integer (nullable = true)\n",
      " |-- tcp_urgent_pointer: integer (nullable = true)\n",
      " |-- tcp_option_len: integer (nullable = true)\n",
      " |-- length: integer (nullable = true)\n",
      " |-- tcp_len: integer (nullable = true)\n",
      " |-- time_stamp: double (nullable = true)\n",
      " |-- report: long (nullable = true)\n",
      " |-- mac_ts: long (nullable = true)\n",
      " |-- window: integer (nullable = true)\n",
      "\n"
     ]
    }
   ],
   "source": [
    "df, min_ts, max_ts = preprocess_df(\"mnt/anonflow/catql/experiment_europ4_2023/received_csvs_3/*.csv\")\n",
    "df.printSchema()\n"
   ]
  },
  {
   "cell_type": "code",
   "execution_count": 10,
   "metadata": {},
   "outputs": [
    {
     "name": "stdout",
     "output_type": "stream",
     "text": [
      "\u001b[92m The duration of the packet capture: 0 days, 0 hours, 9 minutes and 35 seconds\u001b[00m\n"
     ]
    }
   ],
   "source": [
    "\n",
    "min_ts_dt = datetime.datetime.fromtimestamp(min_ts/(10**9))\n",
    "max_ts_dt = datetime.datetime.fromtimestamp(max_ts/(10**9))\n",
    "diff = dateutil.relativedelta.relativedelta(max_ts_dt, min_ts_dt)\n",
    "prGreen(\"The duration of the packet capture: %d days, %d hours, %d minutes and %d seconds\" \n",
    "        %(diff.days, diff.hours, diff.minutes, diff.seconds))"
   ]
  },
  {
   "cell_type": "code",
   "execution_count": 11,
   "metadata": {},
   "outputs": [],
   "source": [
    "df = df.select(FIVE_TUPLE + [\"report\", \"mac_ts\", \"window\"]).\\\n",
    "        withColumn(\"source_ip_int\", ip_to_int(F.col(\"src_ip\"))).\\\n",
    "        withColumn(\"from_internal\", is_internal(F.col(\"source_ip_int\"))).\\\n",
    "        withColumn(\"external_ip\", F.when(F.col(\"from_internal\"), F.col(\"dst_ip\")).otherwise(F.col(\"src_ip\"))).\\\n",
    "        withColumn(\"internal_ip\", F.when(F.col(\"from_internal\"), F.col(\"src_ip\")).otherwise(F.col(\"dst_ip\"))).\\\n",
    "        drop(\"source_ip_int\")"
   ]
  },
  {
   "cell_type": "code",
   "execution_count": 13,
   "metadata": {},
   "outputs": [
    {
     "name": "stderr",
     "output_type": "stream",
     "text": [
      "[Stage 9:======================================================>(156 + 2) / 158]\r"
     ]
    },
    {
     "name": "stdout",
     "output_type": "stream",
     "text": [
      "+---+--------------+\n",
      "|win|num_insertions|\n",
      "+---+--------------+\n",
      "|  0|         57060|\n",
      "|  1|         39782|\n",
      "|  2|         32585|\n",
      "|  3|         38988|\n",
      "|  4|         34108|\n",
      "|  5|         38759|\n",
      "|  6|         31759|\n",
      "|  7|         36907|\n",
      "|  8|         32178|\n",
      "|  9|         30309|\n",
      "+---+--------------+\n",
      "\n"
     ]
    },
    {
     "name": "stderr",
     "output_type": "stream",
     "text": [
      "                                                                                \r"
     ]
    }
   ],
   "source": [
    "df.where(F.col(\"from_internal\")).\\\n",
    "        withColumn(\"win\", F.floor(F.col(\"window\")/60)).\\\n",
    "        groupBy(\"win\").\\\n",
    "        agg(F.countDistinct(\"external_ip\", \"internal_ip\").alias(\"num_insertions\")).\\\n",
    "        orderBy(\"win\").\\\n",
    "        show(100)\n"
   ]
  },
  {
   "cell_type": "code",
   "execution_count": 12,
   "metadata": {},
   "outputs": [
    {
     "name": "stderr",
     "output_type": "stream",
     "text": [
      "                                                                                \r"
     ]
    },
    {
     "name": "stdout",
     "output_type": "stream",
     "text": [
      "+-----------+-----------+\n",
      "|max(window)|min(window)|\n",
      "+-----------+-----------+\n",
      "|        575|          0|\n",
      "+-----------+-----------+\n",
      "\n"
     ]
    },
    {
     "name": "stderr",
     "output_type": "stream",
     "text": [
      "[Stage 12:===============>                                     (46 + 112) / 158]\r"
     ]
    },
    {
     "name": "stdout",
     "output_type": "stream",
     "text": [
      "+------+---------+\n",
      "|report|    count|\n",
      "+------+---------+\n",
      "|     0|103411724|\n",
      "|     1|  2548722|\n",
      "+------+---------+\n",
      "\n"
     ]
    },
    {
     "name": "stderr",
     "output_type": "stream",
     "text": [
      "                                                                                \r"
     ]
    }
   ],
   "source": [
    "df.select(\"window\").groupBy().agg(F.max(\"window\"), F.min(\"window\")).show()\n",
    "df.groupBy(\"report\").agg(F.sum(F.lit(1)).alias(\"count\")).show()"
   ]
  },
  {
   "cell_type": "code",
   "execution_count": 13,
   "metadata": {},
   "outputs": [
    {
     "data": {
      "text/plain": [
       "DataFrame[src_ip: string, dst_ip: string, src_port: int, dst_port: int, protocol: int, report: bigint, mac_ts: bigint, window: int, from_internal: boolean, external_ip: string, internal_ip: string]"
      ]
     },
     "execution_count": 13,
     "metadata": {},
     "output_type": "execute_result"
    }
   ],
   "source": [
    "df_insert = df.filter(F.col(\"from_internal\")==True).select(\"window\", \"internal_ip\", \"external_ip\",\"mac_ts\")\n",
    "df_query = df.filter(F.col(\"from_internal\")==False)\n",
    "df_insert.cache()\n",
    "df_query.cache()"
   ]
  },
  {
   "cell_type": "code",
   "execution_count": 14,
   "metadata": {},
   "outputs": [
    {
     "name": "stderr",
     "output_type": "stream",
     "text": [
      "                                                                                \r"
     ]
    },
    {
     "name": "stdout",
     "output_type": "stream",
     "text": [
      "39075755\n"
     ]
    },
    {
     "name": "stderr",
     "output_type": "stream",
     "text": [
      "[Stage 19:================================================>    (146 + 12) / 158]\r"
     ]
    },
    {
     "name": "stdout",
     "output_type": "stream",
     "text": [
      "66884691\n"
     ]
    },
    {
     "name": "stderr",
     "output_type": "stream",
     "text": [
      "                                                                                \r"
     ]
    }
   ],
   "source": [
    "print(df_insert.count())\n",
    "print(df_query.count())\n",
    "\n",
    "# 39061955\n",
    "# 66851275"
   ]
  },
  {
   "cell_type": "code",
   "execution_count": 16,
   "metadata": {},
   "outputs": [
    {
     "name": "stderr",
     "output_type": "stream",
     "text": [
      "                                                                                \r"
     ]
    }
   ],
   "source": [
    "import shutil\n",
    "shutil.rmtree(\"/media/disk1/mengying/csv/win_60/df_insert.csv\")\n",
    "shutil.rmtree(\"/media/disk1/mengying/csv/win_60/df_query.csv\")\n",
    "\n",
    "df_insert.repartition(1).write.csv(\"/media/disk1/mengying/csv/win_60/df_insert.csv\",header=True)\n",
    "df_query.repartition(1).write.csv(\"/media/disk1/mengying/csv/win_60/df_query.csv\",header=True)"
   ]
  },
  {
   "cell_type": "code",
   "execution_count": null,
   "metadata": {},
   "outputs": [],
   "source": [
    "df_insert = spark.read.csv(\"/media/disk1/mengying/csv/win_60/df_insert.csv\", inferSchema=True,header=True)\n",
    "df_query = spark.read.csv(\"/media/disk1/mengying/csv/win_60/df_query.csv\", inferSchema=True,header=True)"
   ]
  },
  {
   "cell_type": "code",
   "execution_count": 17,
   "metadata": {},
   "outputs": [
    {
     "data": {
      "text/plain": [
       "DataFrame[src_ip: string, dst_ip: string, src_port: int, dst_port: int, protocol: int, report: bigint, mac_ts: bigint, window: int, from_internal: boolean, external_ip: string, internal_ip: string]"
      ]
     },
     "execution_count": 17,
     "metadata": {},
     "output_type": "execute_result"
    }
   ],
   "source": [
    "df.unpersist()"
   ]
  },
  {
   "cell_type": "code",
   "execution_count": 18,
   "metadata": {},
   "outputs": [],
   "source": [
    "# Use 60 seconds to calculate the ground truth\n",
    "TARGET_TIME_IN_NANOSEC = 60 * (10**9)\n",
    "WINDOW_SIZE_IN_NANOSEC = 1 * (10**9)"
   ]
  },
  {
   "cell_type": "code",
   "execution_count": 19,
   "metadata": {},
   "outputs": [
    {
     "name": "stderr",
     "output_type": "stream",
     "text": [
      "                                                                                \r"
     ]
    }
   ],
   "source": [
    "num_wins = math.ceil(TARGET_TIME_IN_NANOSEC / WINDOW_SIZE_IN_NANOSEC )\n",
    "df_query_drop = df_query\n",
    "df_insert_grouped = df_insert.groupBy(\"window\", \"internal_ip\", \"external_ip\").\\\n",
    "                              agg(F.min(\"mac_ts\").alias(\"min_insert_mac_ts\"),\n",
    "                                  F.max(\"mac_ts\").alias(\"max_insert_mac_ts\"))\n",
    "shutil.rmtree(\"/media/disk1/mengying/csv/win_60/df_query_drop.csv\")\n",
    "df_query_drop.repartition(1).write.csv(\"/media/disk1/mengying/csv/win_60/df_query_drop_1.csv\",header=True)"
   ]
  },
  {
   "cell_type": "code",
   "execution_count": 20,
   "metadata": {},
   "outputs": [
    {
     "name": "stderr",
     "output_type": "stream",
     "text": [
      "                                                                                \r"
     ]
    }
   ],
   "source": [
    "for win in range(1, num_wins):\n",
    "    df_query_drop = spark.read.csv(\"/media/disk1/mengying/csv/win_60/df_query_drop_\" + str(win) +\".csv\", inferSchema=True,header=True)\n",
    "    df_insert_shifted = df_insert_grouped.withColumn(\"window\", (F.col(\"window\") + win))\n",
    "    df_query_drop = df_query_drop.join(df_insert_shifted.select(\"window\", \"internal_ip\", \"external_ip\"), \n",
    "                                       on = [\"window\", \"internal_ip\", \"external_ip\"], \n",
    "                                       how=\"left_anti\")\n",
    "    df_query_drop.repartition(1).write.csv(\"/media/disk1/mengying/csv/win_60/df_query_drop_\" + str(win+1) +\".csv\",header=True)"
   ]
  },
  {
   "cell_type": "code",
   "execution_count": 23,
   "metadata": {},
   "outputs": [
    {
     "name": "stderr",
     "output_type": "stream",
     "text": [
      "[Stage 919:=====================>                               (41 + 59) / 100]\r"
     ]
    },
    {
     "name": "stdout",
     "output_type": "stream",
     "text": [
      "5398200\n"
     ]
    },
    {
     "name": "stderr",
     "output_type": "stream",
     "text": [
      "                                                                                \r"
     ]
    }
   ],
   "source": [
    "df_query_drop = spark.read.csv(\"/media/disk1/mengying/csv/win_60/df_query_drop_\" + str(num_wins) +\".csv\", inferSchema=True,header=True)\n",
    "df_query_drop.cache()\n",
    "print(df_query_drop.count())"
   ]
  },
  {
   "cell_type": "code",
   "execution_count": 24,
   "metadata": {},
   "outputs": [
    {
     "name": "stderr",
     "output_type": "stream",
     "text": [
      "[Stage 936:===>                                                  (7 + 93) / 100]\r"
     ]
    },
    {
     "name": "stdout",
     "output_type": "stream",
     "text": [
      "2561773\n"
     ]
    },
    {
     "name": "stderr",
     "output_type": "stream",
     "text": [
      "                                                                                \r"
     ]
    }
   ],
   "source": [
    "df_query_drop_2 = df_query_drop.join(df_insert_grouped.select(\"window\", \"internal_ip\", \"external_ip\", \"min_insert_mac_ts\"),\n",
    "                                   on = [\"window\", \"internal_ip\", \"external_ip\"], \n",
    "                                   how=\"left\").\\\n",
    "                              fillna(max_ts + 1).\\\n",
    "                              where(F.col(\"min_insert_mac_ts\") - F.col(\"mac_ts\") >= 0 ).\\\n",
    "                              drop(\"min_insert_mac_ts\").\\\n",
    "                              join(df_insert_grouped.withColumn(\"window\", (F.col(\"window\") + num_wins)).\\\n",
    "                                                     select(\"window\", \"internal_ip\", \"external_ip\", \"max_insert_mac_ts\"),\n",
    "                                   on = [\"window\", \"internal_ip\", \"external_ip\"], \n",
    "                                   how=\"left\").\\\n",
    "                              fillna(min_ts - TARGET_TIME_IN_NANOSEC - 1).\\\n",
    "                              where(F.col(\"mac_ts\") - F.col(\"max_insert_mac_ts\") > TARGET_TIME_IN_NANOSEC ).\\\n",
    "                              drop(\"max_insert_mac_ts\").\\\n",
    "                              withColumn(\"groud_truth\", F.lit(1))\n",
    "\n",
    "df_query_drop_2 = df_query_drop_2.withColumnRenamed(\"window\", \"window\").\\\n",
    "                                withColumnRenamed(\"internal_ip\", \"internal_ip\").\\\n",
    "                                withColumnRenamed(\"external_ip\", \"external_ip\").\\\n",
    "                                withColumnRenamed(\"src_ip\", \"src_ip\").\\\n",
    "                                withColumnRenamed(\"dst_ip\", \"dst_ip\").\\\n",
    "                                withColumnRenamed(\"src_port\", \"src_port\").\\\n",
    "                                withColumnRenamed(\"dst_port\", \"dst_port\").\\\n",
    "                                withColumnRenamed(\"protocol\", \"protocol\").\\\n",
    "                                withColumnRenamed(\"report\", \"report\").\\\n",
    "                                withColumnRenamed(\"mac_ts\", \"mac_ts\").\\\n",
    "                                withColumnRenamed(\"from_internal\", \"from_internal\").\\\n",
    "                                withColumnRenamed(\"groud_truth\", \"groud_truth\")\n",
    "df_query_drop_2.cache()\n",
    "print(df_query_drop_2.count())\n"
   ]
  },
  {
   "cell_type": "code",
   "execution_count": 26,
   "metadata": {},
   "outputs": [
    {
     "name": "stderr",
     "output_type": "stream",
     "text": [
      "23/09/14 22:58:46 WARN CacheManager: Asked to cache already cached data.\n",
      "                                                                                \r"
     ]
    }
   ],
   "source": [
    "df_comp = df.join(df_query_drop_2, on = df.columns, how=\"left\").fillna(0)\n",
    "df_comp.cache()\n",
    "df_comp.repartition(1).write.csv(\"/media/disk1/mengying/csv/win_60/df_comp.csv\",header=True)"
   ]
  },
  {
   "cell_type": "code",
   "execution_count": 27,
   "metadata": {},
   "outputs": [
    {
     "name": "stderr",
     "output_type": "stream",
     "text": [
      "[Stage 989:===========================================>        (113 + 22) / 135]\r"
     ]
    },
    {
     "name": "stdout",
     "output_type": "stream",
     "text": [
      "+------+-----------+-----+\n",
      "|report|groud_truth|count|\n",
      "+------+-----------+-----+\n",
      "|     0|          1|13051|\n",
      "+------+-----------+-----+\n",
      "\n"
     ]
    },
    {
     "name": "stderr",
     "output_type": "stream",
     "text": [
      "                                                                                \r"
     ]
    }
   ],
   "source": [
    "# Check no false negatives\n",
    "\n",
    "df_fp = df_comp.where(F.col(\"report\") != F.col(\"groud_truth\"))\n",
    "df_fp.groupBy(\"report\",\"groud_truth\").agg(F.sum(F.lit(1)).alias(\"count\")).show()\n"
   ]
  },
  {
   "cell_type": "code",
   "execution_count": 28,
   "metadata": {},
   "outputs": [
    {
     "name": "stderr",
     "output_type": "stream",
     "text": [
      "[Stage 999:====================================================>(157 + 1) / 158]\r"
     ]
    },
    {
     "name": "stdout",
     "output_type": "stream",
     "text": [
      "+------+--------+\n",
      "|report|   count|\n",
      "+------+--------+\n",
      "|     0|39075755|\n",
      "+------+--------+\n",
      "\n"
     ]
    },
    {
     "name": "stderr",
     "output_type": "stream",
     "text": [
      "                                                                                \r"
     ]
    }
   ],
   "source": [
    "# Check outgoing are all allowed\n",
    "\n",
    "df.filter(F.col(\"from_internal\")==True).groupBy(\"report\").agg(F.sum(F.lit(1)).alias(\"count\")).show()\n"
   ]
  },
  {
   "cell_type": "code",
   "execution_count": 31,
   "metadata": {},
   "outputs": [
    {
     "name": "stdout",
     "output_type": "stream",
     "text": [
      "root\n",
      " |-- src_ip: string (nullable = true)\n",
      " |-- dst_ip: string (nullable = true)\n",
      " |-- src_port: integer (nullable = true)\n",
      " |-- dst_port: integer (nullable = true)\n",
      " |-- protocol: integer (nullable = true)\n",
      " |-- report: long (nullable = true)\n",
      " |-- mac_ts: long (nullable = true)\n",
      " |-- window: integer (nullable = true)\n",
      " |-- from_internal: boolean (nullable = true)\n",
      " |-- external_ip: string (nullable = true)\n",
      " |-- internal_ip: string (nullable = true)\n",
      " |-- groud_truth: integer (nullable = true)\n",
      "\n"
     ]
    }
   ],
   "source": [
    "df_comp.printSchema()"
   ]
  },
  {
   "cell_type": "code",
   "execution_count": 32,
   "metadata": {},
   "outputs": [],
   "source": [
    "\n",
    "df_comp_win = df_comp.withColumn(\"num_falsepos\", F.when(((F.col(\"report\") == 0) & (F.col(\"groud_truth\") == 1)), F.lit(1)).otherwise(F.lit(0))).\\\n",
    "                      withColumn(\"num_falseneg\", F.when(((F.col(\"report\") == 1) & (F.col(\"groud_truth\") == 0)), F.lit(1)).otherwise(F.lit(0))).\\\n",
    "                      withColumn(\"num_truepos\", F.when(((F.col(\"report\") == 0) & (F.col(\"groud_truth\") == 0)), F.lit(1)).otherwise(F.lit(0))).\\\n",
    "                      withColumn(\"num_trueneg\", F.when(((F.col(\"report\") == 1) & (F.col(\"groud_truth\") == 1)), F.lit(1)).otherwise(F.lit(0))).\\\n",
    "                      groupBy(\"window\").\\\n",
    "                      agg(F.sum(\"num_falsepos\").alias(\"num_falsepos\"),\n",
    "                          F.sum(\"num_falseneg\").alias(\"num_falseneg\"),\n",
    "                          F.sum(\"num_truepos\").alias(\"num_truepos\"),\n",
    "                          F.sum(\"num_trueneg\").alias(\"num_trueneg\"),\n",
    "                          F.sum(\"groud_truth\").alias(\"num_negatives\"),\n",
    "                          F.sum(F.lit(1)).alias(\"num_packets\")).\\\n",
    "                      withColumn(\"FPR\", F.col(\"num_falsepos\")/F.col(\"num_negatives\"))\n"
   ]
  },
  {
   "cell_type": "code",
   "execution_count": 33,
   "metadata": {},
   "outputs": [
    {
     "name": "stderr",
     "output_type": "stream",
     "text": [
      "[Stage 1009:================================================>   (126 + 9) / 135]\r"
     ]
    },
    {
     "name": "stdout",
     "output_type": "stream",
     "text": [
      "+------+------------+------------+-----------+-----------+-------------+-----------+--------------------+\n",
      "|window|num_falsepos|num_falseneg|num_truepos|num_trueneg|num_negatives|num_packets|                 FPR|\n",
      "+------+------------+------------+-----------+-----------+-------------+-----------+--------------------+\n",
      "|     0|           0|           0|     125179|       5403|         5403|     130582|                 0.0|\n",
      "|     1|           0|           0|     183839|       4395|         4395|     188234|                 0.0|\n",
      "|     2|           0|           0|     186836|       3934|         3934|     190770|                 0.0|\n",
      "|     3|           0|           0|     194334|       3801|         3801|     198135|                 0.0|\n",
      "|     4|           0|           0|     184680|       3929|         3929|     188609|                 0.0|\n",
      "|     5|           0|           0|     171284|       3565|         3565|     174849|                 0.0|\n",
      "|     6|           0|           0|     190986|       3642|         3642|     194628|                 0.0|\n",
      "|     7|           0|           0|     194485|       3678|         3678|     198163|                 0.0|\n",
      "|     8|           0|           0|     205735|       3348|         3348|     209083|                 0.0|\n",
      "|     9|           0|           0|     184712|       3009|         3009|     187721|                 0.0|\n",
      "|    10|           1|           0|     186369|       3252|         3253|     189622|3.074085459575776E-4|\n",
      "|    11|           0|           0|     174228|       3406|         3406|     177634|                 0.0|\n",
      "|    12|           1|           0|     164962|       3423|         3424|     168386|2.920560747663551E-4|\n",
      "|    13|           1|           0|     146259|       2941|         2942|     149201|3.399048266485384E-4|\n",
      "|    14|           1|           0|     170850|       3674|         3675|     174525|2.721088435374149...|\n",
      "|    15|           1|           0|     175946|       3423|         3424|     179370|2.920560747663551E-4|\n",
      "|    16|           0|           0|     155794|       3352|         3352|     159146|                 0.0|\n",
      "|    17|           1|           0|     163905|       3595|         3596|     167501|2.780867630700778...|\n",
      "|    18|           1|           0|     162418|       3401|         3402|     165820|2.939447383891828...|\n",
      "|    19|           0|           0|     167062|       3699|         3699|     170761|                 0.0|\n",
      "|    20|          21|           0|     213914|      26203|        26224|     240138|8.007931665649787E-4|\n",
      "|    21|           4|           0|     172263|       3570|         3574|     175837|0.001119194180190263|\n",
      "|    22|           8|           0|     208767|       6512|         6520|     215287|0.001226993865030675|\n",
      "|    23|           4|           0|     216850|       4209|         4213|     221063|9.494422027059103E-4|\n",
      "|    24|          14|           0|     183676|       3378|         3392|     187068|0.004127358490566038|\n",
      "|    25|           6|           0|     172639|       3161|         3167|     175806|0.001894537417113988|\n",
      "|    26|          10|           0|     176363|       3280|         3290|     179653| 0.00303951367781155|\n",
      "|    27|           6|           0|     202265|       3432|         3438|     205703|0.001745200698080...|\n",
      "|    28|          11|           0|     218193|       3198|         3209|     221402|0.003427859146151449|\n",
      "|    29|           7|           0|     223896|       3362|         3369|     227265|0.002077767883644...|\n",
      "|    30|           9|           0|     201818|       3204|         3213|     205031|0.002801120448179...|\n",
      "|    31|           8|           0|     191618|       3115|         3123|     194741|0.002561639449247518|\n",
      "|    32|           7|           0|     178259|       3095|         3102|     181361|0.002256608639587363|\n",
      "|    33|          11|           0|     189324|       3956|         3967|     193291|0.002772876228888...|\n",
      "|    34|           5|           0|     192868|       3150|         3155|     196023|0.001584786053882726|\n",
      "|    35|          20|           0|     155386|       3089|         3109|     158495|0.006432936635574...|\n",
      "|    36|          17|           0|     192475|       3968|         3985|     196460|0.004265997490589712|\n",
      "|    37|           7|           0|     193359|       3364|         3371|     196730|0.002076535152773...|\n",
      "|    38|           8|           0|     185159|       3208|         3216|     188375|0.002487562189054...|\n",
      "|    39|           8|           0|     189134|       3324|         3332|     192466|0.002400960384153...|\n",
      "|    40|           5|           0|     192985|       3948|         3953|     196938|0.001264862130027...|\n",
      "|    41|           9|           0|     193301|       3820|         3829|     197130|0.002350483154870...|\n",
      "|    42|           7|           0|     189963|       4146|         4153|     194116|0.001685528533590...|\n",
      "|    43|           6|           0|     197665|       3857|         3863|     201528|0.001553196997152472|\n",
      "|    44|           8|           0|     217106|       3814|         3822|     220928|0.002093144950287...|\n",
      "|    45|          13|           0|     239578|       3354|         3367|     242945|0.003861003861003861|\n",
      "|    46|          10|           0|     224227|       3457|         3467|     227694|0.002884338044418806|\n",
      "|    47|          17|           0|     184535|       3336|         3353|     187888|0.005070086489710707|\n",
      "|    48|          10|           0|     181022|       3595|         3605|     184627|0.002773925104022...|\n",
      "|    49|          32|           0|     195525|       6454|         6486|     202011|0.004933703361085414|\n",
      "|    50|           9|           0|      65941|       2926|         2935|      68876|0.003066439522998...|\n",
      "|    53|          26|           0|     167716|      10807|        10833|     178549|0.002400073848426...|\n",
      "|    54|          23|           0|     191144|       6653|         6676|     197820|0.003445176752546435|\n",
      "|    55|          20|           0|     182125|       5798|         5818|     187943|0.003437607425232...|\n",
      "|    56|          22|           0|     187588|       5865|         5887|     193475| 0.00373704773229149|\n",
      "|    57|          18|           0|     191363|       3775|         3793|     195156|0.004745583970471922|\n",
      "|    58|          20|           0|     222555|       5728|         5748|     228303|0.003479471120389701|\n",
      "|    59|          12|           0|     203874|       7456|         7468|     211342|0.001606855918585...|\n",
      "|    60|          12|           0|     195355|       4523|         4535|     199890|0.002646085997794928|\n",
      "|    61|          16|           0|     192325|       6323|         6339|     198664|0.002524057422306...|\n",
      "|    62|          16|           0|     212280|       4740|         4756|     217036| 0.00336417157275021|\n",
      "|    63|          17|           0|     222026|       3393|         3410|     225436| 0.00498533724340176|\n",
      "|    64|          12|           0|     235059|       3051|         3063|     238122|0.003917727717923...|\n",
      "|    65|          14|           0|     215002|       3053|         3067|     218069|0.004564721225953701|\n",
      "|    66|          22|           0|     203043|       3157|         3179|     206222|0.006920415224913495|\n",
      "|    67|          17|           0|     183274|       3041|         3058|     186332|0.005559189012426423|\n",
      "|    68|          22|           0|     175366|       2889|         2911|     178277|0.007557540364136035|\n",
      "|    69|          22|           0|     191915|       3137|         3159|     195074|0.006964229186451409|\n",
      "|    70|          30|           0|     191575|       3371|         3401|     194976|0.008820935019112026|\n",
      "|    71|          31|           0|     200964|       3504|         3535|     204499| 0.00876944837340877|\n",
      "|    72|          27|           0|     176338|       3104|         3131|     179469|0.008623442989460236|\n",
      "|    73|          33|           0|     177854|       3227|         3260|     181114|0.010122699386503068|\n",
      "|    74|          32|           0|     181487|       3199|         3231|     184718|0.009904054472299598|\n",
      "|    75|          37|           0|     193120|       3295|         3332|     196452|0.011104441776710685|\n",
      "|    76|          28|           0|     171857|       3482|         3510|     175367|0.007977207977207978|\n",
      "|    77|          46|           0|     206218|       3776|         3822|     210040|0.012035583464154892|\n",
      "|    78|          36|           0|     217032|       4045|         4081|     221113|0.008821367311933349|\n",
      "|    79|          28|           0|     231630|       4664|         4692|     236322|0.005967604433077579|\n",
      "|    80|          31|           0|     201721|       5325|         5356|     207077| 0.00578790141896938|\n",
      "|    81|          36|           0|     219076|       5831|         5867|     224943|0.006136014999147775|\n",
      "|    82|          45|           0|     250292|       6140|         6185|     256477|0.007275666936135812|\n",
      "|    83|          65|           0|     251162|       7257|         7322|     258484|0.008877355913684786|\n",
      "|    84|          52|           0|     199998|       7000|         7052|     207050| 0.00737379466817924|\n",
      "|    85|          62|           0|     222218|       7840|         7902|     230120|0.007846114907618324|\n",
      "|    86|          53|           0|     216192|       8575|         8628|     224820|0.006142790913305517|\n",
      "|    87|          62|           0|     216806|       8563|         8625|     225431|0.007188405797101449|\n",
      "|    88|          69|           0|     195541|       8981|         9050|     204591|0.007624309392265...|\n",
      "|    89|          63|           0|     221395|       8387|         8450|     229845|0.007455621301775148|\n",
      "|    90|          55|           0|     234173|       8480|         8535|     242708|0.006444053895723492|\n",
      "|    91|          68|           0|     227826|       7997|         8065|     235891|0.008431494110353379|\n",
      "|    92|          76|           0|     196566|       7598|         7674|     204240|0.009903570497784727|\n",
      "|    93|          37|           0|     197466|       7542|         7579|     205045|0.004881910542287901|\n",
      "|    94|          17|           0|     197478|       6687|         6704|     204182|0.002535799522673031|\n",
      "|    95|          18|           0|     187139|       6539|         6557|     193696|0.002745157846576...|\n",
      "|    96|          29|           0|     194267|       6433|         6462|     200729|0.004487774682760755|\n",
      "|    97|          33|           0|     188012|       5988|         6021|     194033|0.005480817140009965|\n",
      "|    98|          26|           0|     189794|       5660|         5686|     195480|0.004572634540977...|\n",
      "|    99|           3|           0|      40353|        959|          962|      41315|0.003118503118503...|\n",
      "|   100|          20|           0|     199989|       5253|         5273|     205262|0.003792907263417...|\n",
      "|   101|          14|           0|     184184|       4852|         4866|     189050|0.002877106452938759|\n",
      "+------+------------+------------+-----------+-----------+-------------+-----------+--------------------+\n",
      "only showing top 100 rows\n",
      "\n"
     ]
    },
    {
     "name": "stderr",
     "output_type": "stream",
     "text": [
      "                                                                                \r"
     ]
    }
   ],
   "source": [
    "df_comp_win.orderBy(\"window\").show(100)"
   ]
  },
  {
   "cell_type": "code",
   "execution_count": 51,
   "metadata": {},
   "outputs": [
    {
     "name": "stderr",
     "output_type": "stream",
     "text": [
      "[Stage 1186:==========>                                        (27 + 108) / 135]\r"
     ]
    },
    {
     "name": "stdout",
     "output_type": "stream",
     "text": [
      "+------------+-------------+------------+\n",
      "|num_falsepos|num_negatives|         FPR|\n",
      "+------------+-------------+------------+\n",
      "|       13051|      2561773|0.0050945185|\n",
      "+------------+-------------+------------+\n",
      "\n"
     ]
    },
    {
     "name": "stderr",
     "output_type": "stream",
     "text": [
      "                                                                                \r"
     ]
    }
   ],
   "source": [
    "df_comp_win.groupBy().\\\n",
    "            agg(F.sum(\"num_falsepos\").alias(\"num_falsepos\"),\n",
    "                F.sum(F.col(\"num_negatives\")).alias(\"num_negatives\")).\\\n",
    "            withColumn(\"FPR\", F.round(F.col(\"num_falsepos\")/F.col(\"num_negatives\"), 10)).show()"
   ]
  },
  {
   "cell_type": "code",
   "execution_count": null,
   "metadata": {},
   "outputs": [],
   "source": []
  }
 ],
 "metadata": {
  "kernelspec": {
   "display_name": "Python 3 (ipykernel)",
   "language": "python",
   "name": "python3"
  },
  "language_info": {
   "codemirror_mode": {
    "name": "ipython",
    "version": 3
   },
   "file_extension": ".py",
   "mimetype": "text/x-python",
   "name": "python",
   "nbconvert_exporter": "python",
   "pygments_lexer": "ipython3",
   "version": "3.8.10"
  }
 },
 "nbformat": 4,
 "nbformat_minor": 4
}
